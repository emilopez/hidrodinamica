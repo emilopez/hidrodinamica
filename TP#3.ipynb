{
 "cells": [
  {
   "cell_type": "markdown",
   "metadata": {
    "collapsed": true
   },
   "source": [
    "# Trabajo práctico Nro 3: Ondas de superficie\n",
    "\n",
    "Materia: Hidrodinámica de cuerpos de agua - 2017\n",
    "\n",
    "Alumno: Emiliano López\n",
    "\n",
    "## 1.a)\n",
    "\n",
    "Calculamos la velocidades horizontal y vertical de las partículas $u$ y $w$, y las aceleraciones $a_x$ y $a_z$ a una profundidad de 5m debajo de la superficie cuando $\\theta = 2\\pi x/L - 2\\pi t/T = \\pi/3$"
   ]
  },
  {
   "cell_type": "markdown",
   "metadata": {
    "collapsed": true
   },
   "source": [
    "La teoría de Airy define la función potencial $\\phi$ -tomando la parte real- del siguiente modo:\n",
    "\n",
    "$$\\phi (x,z,t) = \\frac{gA}{\\omega} \\frac{cosh[k(h+z)]}{cosh(kh)}cos(kx -\\omega t)$$"
   ]
  },
  {
   "cell_type": "markdown",
   "metadata": {},
   "source": [
    "Calculamos las velocidades u y w:\n",
    "\n",
    "$$ u = \\frac{\\partial \\phi}{\\partial x} = -\\frac{gA}{\\omega}k \\frac{cosh[k(h+z)]}{cosh(kh)}sin(kx -\\omega t)$$\n",
    "\n",
    "$$ w = \\frac{\\partial \\phi}{\\partial z} = \\frac{gA}{\\omega}k \\frac{senh[k(h+z)]}{cosh(kh)}cos(kx -\\omega t)$$"
   ]
  },
  {
   "cell_type": "markdown",
   "metadata": {},
   "source": [
    "Calculamos las aceleraciones $a_x$ y $a_z$:\n",
    "\n",
    "$$a_x = \\frac{\\partial u}{\\partial t} = gAk \\frac{cosh[k(h+z)]}{cosh(kh)}cos(kx -\\omega t)$$\n",
    "\n",
    "\n",
    "$$a_z = \\frac{\\partial w}{\\partial t} = gAk \\frac{senh[k(h+z)]}{cosh(kh)}sen(kx -\\omega t)$$"
   ]
  },
  {
   "cell_type": "markdown",
   "metadata": {},
   "source": [
    "Utilizando los datos del problema: \n",
    "- Período T = 8s \n",
    "- Altura A = 5m \n",
    "- Profundidad $h_0=15m$\n",
    "- $\\omega = 2\\pi/T$\n",
    "\n",
    "debemos calcular el valor del **número de ondas** $k$.\n",
    "\n",
    "Utilizando la relación de dispersión $\\omega^2 = gk \\tanh(kh_0)$ y renombrando $y=kh_0$, obtenemos:\n",
    "\n",
    "$$\\omega^2 = g \\frac{y}{h_0} \\tanh(y)$$\n",
    "\n",
    "$$\\underbrace{\\frac{\\omega^2h_0}{g}}_{B=0.94319} = y \\tanh(y)$$\n",
    "\n",
    "$$y = \\frac{B}{tanh(y)}$$"
   ]
  },
  {
   "cell_type": "markdown",
   "metadata": {},
   "source": [
    "Esta última ecuación debe resolverse en forma iterativa:\n",
    "\n",
    "$$y^{(k+1)} = \\frac{B}{tanh(y^{(k)})}$$"
   ]
  },
  {
   "cell_type": "code",
   "execution_count": 19,
   "metadata": {},
   "outputs": [
    {
     "name": "stdout",
     "output_type": "stream",
     "text": [
      "0.259512420710393\n"
     ]
    }
   ],
   "source": [
    "from math import tanh, pi\n",
    "B = (((2*pi/8)**2)*15)/9.81\n",
    "y = 5\n",
    "for i in range(10):\n",
    "    y = B * tanh(y)\n",
    "print(y)"
   ]
  },
  {
   "cell_type": "code",
   "execution_count": 35,
   "metadata": {},
   "outputs": [
    {
     "name": "stdout",
     "output_type": "stream",
     "text": [
      "u =  -0.9176736266337712\n",
      "v =  0.09075510516424319\n",
      "ax =  0.4161189601407109\n",
      "az =  0.12345866403593536\n"
     ]
    }
   ],
   "source": [
    "from math import cosh, sinh, sin, cos\n",
    "\n",
    "u = ((-9.8*5*0.01730)/(pi/4))*((cosh(0.01730*10))/(cosh(0.01730*15)))*sin(pi/3)\n",
    "v = ((9.8*5*0.01730)/(pi/4))*((sinh(0.01730*10))/(cosh(0.01730*15)))*cos(pi/3)\n",
    "ax = (9.8*5*0.01730)*(cosh(0.01730*10)/cosh(0.01730*15))*cos(pi/3)\n",
    "az = (9.8*5*0.01730)*(sinh(0.01730*10)/cosh(0.01730*15))*sin(pi/3)\n",
    "print(\"u = \",u)\n",
    "print(\"v = \",v)\n",
    "print(\"ax = \",ax)\n",
    "print(\"az = \",az)"
   ]
  },
  {
   "cell_type": "markdown",
   "metadata": {},
   "source": [
    "por lo que $y^{(10)} = 0.259512$ de modo que $k = y^{(10)}/h_0 = 0.01730$\n",
    "\n",
    "Con los valores calculados y los datos del problema obtenemos las velocidades y aceleraciones:\n",
    "\n",
    "$$u = \\frac{-9.8[m/s^2]*5[m]*0.01730[1/m]}{\\pi/4 [1/s]}*\\frac{cosh(0.01730[1/m]*(15[m]-5[m]))}{cosh(0.01730[1/m]*15[m])}*sen(\\pi/3) =-0.9176 [m/s]$$"
   ]
  },
  {
   "cell_type": "markdown",
   "metadata": {},
   "source": [
    "$$v = \\frac{9.8[m/s^2]*5[m]*0.01730[1/m]}{\\pi/4 [1/s]}*\\frac{senh(0.01730[1/m]*(15[m]-5[m]))}{cosh(0.01730[1/m]*15[m])}*cos(\\pi/3) =0.0907 [m/s]$$"
   ]
  },
  {
   "cell_type": "markdown",
   "metadata": {},
   "source": [
    "$$a_x = 9.8[m/s^2]*5[m]*0.01730[1/m]*\\frac{cosh(0.01730[1/m]*(15[m]-5[m]))}{cosh(0.01730[1/m]*15[m])}*cos(\\pi/3) =0.4161 [m/s^2]$$"
   ]
  },
  {
   "cell_type": "markdown",
   "metadata": {},
   "source": [
    "$$a_z = 9.8[m/s^2]*5[m]*0.01730[1/m]*\\frac{senh(0.01730[1/m]*(15[m]-5[m]))}{cosh(0.01730[1/m]*15[m])}*sen(\\pi/3) =0.1234 [m/s^2]$$"
   ]
  },
  {
   "cell_type": "markdown",
   "metadata": {},
   "source": [
    "## 1.b) Trayectorias teórica de las partículas\n",
    "\n",
    "Las expresiones de velocidad pueden ser integradas en el tiempo para obtener los valores de la trayectoria, esto es:\n",
    "\n",
    "- Desplazamiento horizontal:\n",
    "\n",
    "$$\\zeta = \\int u dt = \\frac{gA}{\\omega^2}k \\frac{cosh[k(h+z)]}{cosh(kh)}cos(kx -\\omega t)$$"
   ]
  },
  {
   "cell_type": "markdown",
   "metadata": {},
   "source": [
    "- Desplazamiento vertical:"
   ]
  },
  {
   "cell_type": "markdown",
   "metadata": {},
   "source": [
    "$$\\varepsilon = \\int w dt = -\\frac{gA}{\\omega^2}k \\frac{senh[k(h+z)]}{cosh(kh)}sin(kx -\\omega t)$$"
   ]
  },
  {
   "cell_type": "markdown",
   "metadata": {},
   "source": [
    "Estas ecuaciones nos dan la posición relativa de la partícula respecto de un punto en función de la posición *x*, y del tiemo *t*. \n",
    "\n",
    "Elevando y sumando estas expresiones al cuadrado, encontraremos la ecuación que representa la trayectoria de las partículas. Si además las dividimos por máximo valor en x y z, obtenemos la siguiente ecuación:\n",
    "\n",
    "$$\\frac{\\zeta^2}{B^2} + \\frac{\\varepsilon^2}{C^2} = 1$$"
   ]
  },
  {
   "cell_type": "markdown",
   "metadata": {},
   "source": [
    "que claramente es la ecuacion de una elipse, por lo que las partículas de agua conforman órbitas cerradas, cuyos semiejes horizontal y vertical son respectivamente:\n",
    "\n",
    "$$ B =A \\frac{cosh[k(h+z)]}{cosh(kh)}$$\n",
    "\n",
    "$$ C = -A \\frac{senh[k(h+z)]}{cosh(kh)}$$\n",
    "\n",
    "### Para aguas intermedias"
   ]
  },
  {
   "cell_type": "code",
   "execution_count": 66,
   "metadata": {},
   "outputs": [
    {
     "data": {
      "image/png": "[encoded data removed]",
      "text/plain": [
       "<matplotlib.figure.Figure at 0x7f3ad0a00cc0>"
      ]
     },
     "metadata": {},
     "output_type": "display_data"
    }
   ],
   "source": [
    "%matplotlib inline\n",
    "import matplotlib.pyplot as plt\n",
    "from matplotlib.patches import Ellipse\n",
    "import numpy as np\n",
    "\n",
    "z = np.arange(0,-15, -1.2)\n",
    "k, h, A = 0.01730, 15, 5\n",
    "B =  A * np.cosh(k*(h+z)) / np.cosh(k*h)\n",
    "C = -A * np.sinh(k*(h+z)) / np.cosh(k*h)\n",
    "\n",
    "ells = [Ellipse((0, Z), b, c) for Z,b,c in zip(z,B,C)]\n",
    "fig = plt.figure(figsize=(6, 9))\n",
    "a = plt.subplot(111)\n",
    "\n",
    "for e in ells:\n",
    "    e.set_clip_box(a.bbox)\n",
    "    a.add_artist(e)\n",
    "    \n",
    "plt.xlim(-10, 10)\n",
    "plt.ylim(-15, 3)\n",
    "plt.grid()\n",
    "plt.show()"
   ]
  },
  {
   "cell_type": "markdown",
   "metadata": {
    "collapsed": true
   },
   "source": [
    "### Para aguas profundas"
   ]
  },
  {
   "cell_type": "code",
   "execution_count": 65,
   "metadata": {},
   "outputs": [
    {
     "data": {
      "image/png": "[encoded data removed]",
      "text/plain": [
       "<matplotlib.figure.Figure at 0x7f3ad0a26390>"
      ]
     },
     "metadata": {},
     "output_type": "display_data"
    }
   ],
   "source": [
    "z = np.arange(0,-15, -2.5)\n",
    "k, h, A = 0.01730, 15, 5\n",
    "B =  A * np.exp(k*z)*np.sin(np.pi/3)\n",
    "C = A * np.exp(k*z)*np.cos(np.pi/3)\n",
    "\n",
    "ells = [Ellipse((0, Z), b, c) for Z,b,c in zip(z,B,C)]\n",
    "fig = plt.figure(figsize=(6, 9))\n",
    "a = plt.subplot(111)\n",
    "\n",
    "for e in ells:\n",
    "    e.set_clip_box(a.bbox)\n",
    "    a.add_artist(e)\n",
    "    \n",
    "plt.xlim(-10, 10)\n",
    "plt.ylim(-15, 3)\n",
    "plt.grid()\n",
    "plt.show()"
   ]
  },
  {
   "cell_type": "markdown",
   "metadata": {},
   "source": [
    "### Para aguas someras"
   ]
  },
  {
   "cell_type": "code",
   "execution_count": 64,
   "metadata": {},
   "outputs": [
    {
     "data": {
      "image/png": "[encoded data removed]",
      "text/plain": [
       "<matplotlib.figure.Figure at 0x7f3ad0463b00>"
      ]
     },
     "metadata": {},
     "output_type": "display_data"
    }
   ],
   "source": [
    "z = np.arange(0,-15, -2)\n",
    "k, h, A = 0.01730, 15, 5\n",
    "B =  -A * 1/(k*h)*np.sin(np.pi/3)\n",
    "C = A * (1+z/h) * np.cos(np.pi/3)\n",
    "\n",
    "ells = [Ellipse((0, Z), B, c) for Z,c in zip(z,C)]\n",
    "fig = plt.figure(figsize=(6, 9))\n",
    "a = plt.subplot(111)\n",
    "\n",
    "for e in ells:\n",
    "    e.set_clip_box(a.bbox)\n",
    "    a.add_artist(e)\n",
    "    \n",
    "plt.xlim(-10, 10)\n",
    "plt.ylim(-15, 3)\n",
    "plt.grid()\n",
    "plt.show()"
   ]
  },
  {
   "cell_type": "markdown",
   "metadata": {},
   "source": [
    "## 2) Evaluamos la relación entre los términos no lineales y lineales\n",
    "\n",
    "$$\\frac{no\\; lineal}{lineal} = \\frac{uu_x}{u_t}$$\n",
    "\n"
   ]
  },
  {
   "cell_type": "markdown",
   "metadata": {},
   "source": [
    "Tenemos:\n",
    "\n",
    "- $ u = \\frac{\\partial \\phi}{\\partial x} = -\\frac{gA}{\\omega}k \\frac{cosh[k(h+z)]}{cosh(kh)}sen(kx -\\omega t)$"
   ]
  },
  {
   "cell_type": "markdown",
   "metadata": {},
   "source": [
    "- $ u_x = \\frac{\\partial u}{\\partial x} = -\\frac{gA}{\\omega}k^2 \\frac{cosh[k(h+z)]}{cosh(kh)}cos(kx -\\omega t)$"
   ]
  },
  {
   "cell_type": "markdown",
   "metadata": {},
   "source": [
    "- $u_t = \\frac{\\partial u}{\\partial t} = gAk \\frac{cosh[k(h+z)]}{cosh(kh)}cos(kx -\\omega t)$\n"
   ]
  },
  {
   "cell_type": "markdown",
   "metadata": {},
   "source": [
    "Operamos el cociente entre los términos no lineales y lineales y obtenemos:\n",
    "\n",
    "$$\\frac{\\frac{gA}{\\omega}k \\frac{cosh[k(h+z)]}{cosh(kh)}sen(kx -\\omega t)\\frac{gA}{\\omega}k^2 \\frac{cosh[k(h+z)]}{cosh(kh)}cos(kx -\\omega t)}{gAk \\frac{cosh[k(h+z)]}{cosh(kh)}cos(kx -\\omega t)}$$"
   ]
  },
  {
   "cell_type": "markdown",
   "metadata": {},
   "source": [
    "Cancelando los términos correspodnientes nos queda:\n",
    "\n",
    "$$\\frac{1}{\\omega}sen(kx-\\omega t)\\frac{gA}{\\omega}k^2\\frac{cosh[k(h+z)]}{cosh(kh)}=$$\n",
    "\n",
    "$$ = \\frac{Agk^2}{\\omega^2}sen(kx-\\omega t)\\frac{cosh[k(h+z)]}{cosh(kh)}$$"
   ]
  },
  {
   "cell_type": "markdown",
   "metadata": {},
   "source": [
    "Para z=0, obtenemos que la relación es:\n",
    "\n",
    "$$= \\frac{Agk^2}{\\omega^2}sen(kx-\\omega t)$$"
   ]
  },
  {
   "cell_type": "markdown",
   "metadata": {},
   "source": [
    "La restricción para el caso de aguas poco profundas, donde $kh\\ll1$, la relación de dispersión nos da que $\\omega^2\\approx gh k^2$, debido a que $kh \\to 0 (\\ll1)$ y que $tanh(kh) \\to kh$.\n",
    "\n",
    "Por lo que la relación entre los términos despreciados (no lineales) y retenidos (lineales) debe estar acotada, es decir, converger a un valor despreciable, esto es:\n",
    "\n",
    "$$\\frac{A}{h}sen(kx-\\omega t) \\ll 1$$"
   ]
  },
  {
   "cell_type": "markdown",
   "metadata": {},
   "source": [
    "Debido a que la funcion seno es una función periódica acotada entre $\\pm1$, podemos concluir que $A\\ll h$."
   ]
  },
  {
   "cell_type": "code",
   "execution_count": null,
   "metadata": {
    "collapsed": true
   },
   "outputs": [],
   "source": []
  }
 ],
 "metadata": {
  "kernelspec": {
   "display_name": "Python 3",
   "language": "python",
   "name": "python3"
  },
  "language_info": {
   "codemirror_mode": {
    "name": "ipython",
    "version": 3
   },
   "file_extension": ".py",
   "mimetype": "text/x-python",
   "name": "python",
   "nbconvert_exporter": "python",
   "pygments_lexer": "ipython3",
   "version": "3.6.1"
  }
 },
 "nbformat": 4,
 "nbformat_minor": 2
}
